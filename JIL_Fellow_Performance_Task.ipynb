{
 "cells": [
  {
   "cell_type": "markdown",
   "metadata": {
    "id": "6osc3uoQmsB-"
   },
   "source": [
    "# Justice Innovation Lab Performance Task\n",
    "\n",
    "Thank you for your interest in the Justice Innovation Lab. We appreciate the time you are taking to apply, and we hope that this performance task gives a chance to demonstrate some of your skills in the context of hypothetical examples."
   ]
  },
  {
   "cell_type": "markdown",
   "metadata": {
    "id": "tEAEJaMUm0HQ"
   },
   "source": [
    "# Instructions\n",
    "\n",
    "**PLEASE READ CAREFULLY**\n",
    "\n",
    "This is not a timed task, but we aimed for a task that does not take more than 6 hours.  You may add more cells for work, but please do not delete any existing  notebook cells. \n",
    "\n",
    "**Please use Python or R.** Please use this ipynb file to supply your answers. It should be completed using either a python or R kernel. If you do not have access to a computer capable of running your python or R code, you may use free online computing services such as kaggle or colab, or any other online computing service. We have tested both kaggle and collab and they are sufficiently powerful to complete all the tasks below. \n",
    " - https://www.kaggle.com/notebooks/welcome\n",
    " - https://colab.research.google.com/\n",
    " \n",
    "\n",
    "**Please show your work.** We are interested in your thought process, so please show/annotate your code. We prefer that you display images inline rather than in separate files. If you need to install any packages, please include the code required to install them. Eg: \n",
    "\n",
    "> ```! pip install new_package  # (for python)```\n",
    "\n",
    "> ```! install.packages(new.package, dependencies = TRUE) # (for R)```\n",
    "\n",
    "\n",
    "**Please send us a single compressed file.** When you are done, please follow the directions at the end to submit your work.\n",
    "\n",
    "**Please let us know if you have any questions.** If you have questions about the task please email rory.pulvino@justiceinnovationlab.org (we promise there's a human on the other end, but also expect slow response times)."
   ]
  },
  {
   "cell_type": "markdown",
   "metadata": {
    "id": "XMR48t9izdro"
   },
   "source": [
    "# Name, Date & Email\n",
    "Please enter your full name and email address in the markdown space below. "
   ]
  },
  {
   "cell_type": "markdown",
   "metadata": {
    "id": "vbajbIN2zduK"
   },
   "source": [
    "Name: \n",
    "\n",
    "Date: \n",
    "\n",
    "Email: \n",
    "\n"
   ]
  },
  {
   "cell_type": "markdown",
   "metadata": {
    "id": "CICDn-l8bN82"
   },
   "source": [
    "# Section 1: Data Manipulation\n",
    "Suppose a jurisdiction has data on:\n",
    "\n",
    "Recent traffic stops by some a local Police Department officers (traffic stops data): \n",
    "- https://drive.google.com/uc?export=download&id=1fp7716e-l7RZusH6wo8UeUQNM7J0dyYN\n",
    "\n",
    "Crime incidents reported to the police department (crime incidents data): \n",
    "- https://drive.google.com/uc?export=download&id=12gnXMitHQM1nTqBm20Gcq84r7qgttWY-\n",
    "\n",
    "Using these data, please perform the following tasks."
   ]
  },
  {
   "cell_type": "markdown",
   "metadata": {
    "id": "MphS6m1wbN83"
   },
   "source": [
    "## Task 1.A \n",
    "Load the data we provided and view a few rows of each. As a note, if you're reading in the courts data for Section 2 using pd.read_csv in Python, you may need to use the following syntax to read from the url:\n",
    "\n",
    "courts_df = pd.read_csv(courts_data_url, names = ['stop_id', 'ticket_amount', \n",
    "                                                  'ticket_status'], skiprows = 1)\n",
    "\n",
    "*Reminder*: for all questions, please write your code in this notebook!  This is what we will review and score. "
   ]
  },
  {
   "cell_type": "code",
   "execution_count": null,
   "metadata": {
    "id": "tLcW3CgDbN83"
   },
   "outputs": [],
   "source": [
    "\n",
    "\n",
    "\n"
   ]
  },
  {
   "cell_type": "markdown",
   "metadata": {
    "id": "ExB-VTU0bN89"
   },
   "source": [
    "## Task 1.B\n",
    "Crime incidents are reported down to the hour/minute, while stops are only reported down to the day.\n",
    "\n",
    "Please create a new column based on the `REPORT_DAT` column of the crime incidents data that rounds the exact timestamp for the crime down to the day - for instance, \"2017-06-03T12:54:27.000Z\" would become \"2017-06-03\". Call this column `report_daily`."
   ]
  },
  {
   "cell_type": "code",
   "execution_count": null,
   "metadata": {
    "id": "THdm0xejbN89"
   },
   "outputs": [],
   "source": [
    "\n",
    "\n",
    "\n"
   ]
  },
  {
   "cell_type": "markdown",
   "metadata": {
    "id": "VD66Z_qybN9A"
   },
   "source": [
    "## Task 1.C \n",
    "Create a new data set `crimes_by_day` that gives the total count of crime incidents per day. For the purposes of aggregating, you can consider each unique `OBJECTID` as reflecting a different crime incident.\n",
    "\n",
    "Similarly, create a new data set `stops_by_day` that gives the total count of traffic stops per day. For the purposes of aggregating, you can consider each unique `stop_id` as reflecting a different stop."
   ]
  },
  {
   "cell_type": "code",
   "execution_count": null,
   "metadata": {},
   "outputs": [],
   "source": []
  },
  {
   "cell_type": "code",
   "execution_count": null,
   "metadata": {
    "id": "u00CSUfXbN9B"
   },
   "outputs": [],
   "source": [
    "\n",
    "\n",
    "\n"
   ]
  },
  {
   "cell_type": "markdown",
   "metadata": {
    "id": "0yfkoTVHbN9D"
   },
   "source": [
    "## Task 1.D\n",
    "For either the traffic stops by day or crime incidents by day, check if there are days missing in the period measured. If so, fill them with the mean across all other days for that data.\n"
   ]
  },
  {
   "cell_type": "code",
   "execution_count": null,
   "metadata": {
    "id": "_KjgC3ambN9E"
   },
   "outputs": [],
   "source": [
    "\n",
    "\n",
    "\n"
   ]
  },
  {
   "cell_type": "markdown",
   "metadata": {
    "id": "31YixbLtbN9H"
   },
   "source": [
    "## Task 1.E\n",
    "Merge the traffic stops by day data with the crimes by day data. Which specific date has the most traffic stops? Which specific date has the most crime incidents?"
   ]
  },
  {
   "cell_type": "code",
   "execution_count": null,
   "metadata": {
    "id": "HtqnzvcqbN9H"
   },
   "outputs": [],
   "source": [
    "\n",
    "\n",
    "\n"
   ]
  },
  {
   "cell_type": "markdown",
   "metadata": {
    "id": "j-icMqSqiwwN"
   },
   "source": [
    "## Task 1.F \n",
    "Write a function that: \n",
    "1. tests for missing dates from a column in a dataframe,\n",
    "2. appends any missing dates to the dataframe as a new column,\n",
    "3. uses an argument to impute missing values of either the mean or median for some other column"
   ]
  },
  {
   "cell_type": "code",
   "execution_count": null,
   "metadata": {
    "id": "Od4IXMuSi9m8"
   },
   "outputs": [],
   "source": [
    "\n",
    "\n"
   ]
  },
  {
   "cell_type": "markdown",
   "metadata": {
    "id": "ejSABI9SbN9K"
   },
   "source": [
    "## Task 1.G\n",
    "Create a plot where the x axis is the date and the y axis is the ratio of traffic stops to crime incidents. Make sure the axis labels are informative.\n",
    "\n",
    "*Note*: make sure your code prints out the plot. You do not need to attach the plot here.\n",
    "\n",
    "What seasonal patterns do you notice? Explain in 1-2 sentences\n"
   ]
  },
  {
   "cell_type": "code",
   "execution_count": null,
   "metadata": {
    "id": "3AgpVOk0bN9K"
   },
   "outputs": [],
   "source": [
    "\n",
    "\n",
    "\n"
   ]
  },
  {
   "cell_type": "markdown",
   "metadata": {},
   "source": [
    "## Task 1.H \n",
    "Create a new data set `offenses_by_month` that gives the total count of crime incidents by offense type per month. For the purposes of aggregating, you can consider each unique `OBJECTID` as reflecting a different crime incident. Consider that this table should be interpretable to a non-technical audience and may require manipulation of the underlying data."
   ]
  },
  {
   "cell_type": "code",
   "execution_count": null,
   "metadata": {},
   "outputs": [],
   "source": []
  },
  {
   "cell_type": "markdown",
   "metadata": {},
   "source": [
    "[Explain any manipulation of the dataset you performed and demonstrate how you would make such manipulation repeatable for future similar datasets.]"
   ]
  },
  {
   "cell_type": "markdown",
   "metadata": {},
   "source": [
    "## Task 1.I \n",
    "The crime data used here was gathered from the MPD's open data site. We have downloaded the 2021 data set on March 15, 2021 and it is available here: https://drive.google.com/uc?export=download&id=1HyslCBSZ7hzeFWw3PLogatrrveoHTWUJ. Please write a function that downloads the most recent version of the data from the [open data site](https://opendata.dc.gov/datasets/crime-incidents-in-2021) and appends any new incidents to the existing dataset with an indicator that it is newly added to the existing data source."
   ]
  },
  {
   "cell_type": "code",
   "execution_count": null,
   "metadata": {},
   "outputs": [],
   "source": []
  },
  {
   "cell_type": "markdown",
   "metadata": {
    "id": "gbseTtHjbN9N"
   },
   "source": [
    "# Section 2: Policy Evaluation\n",
    "Suppose the city government enacted a policy that allows people with low incomes (less than $30,000 per year) to have their ticket amount reduced 20 to 40 percent. The goal of the new policy is to reduce the number of overdue tickets among low-income residents.\n",
    "\n",
    "In this section, you'll use the same traffic stop data as in Section 1. You'll also use data on the court outcomes of tickets: \n",
    "- https://drive.google.com/uc?export=download&id=1CLyfh4-_oc8mTRdh4Fl9vH7JYOsUcUom\n",
    "\n",
    "and data on residents' income:\n",
    "- https://drive.google.com/uc?export=download&id=1CaERRReTMStFgutGEJo6hC34Od7mrHSG\n",
    "\n",
    "Please use those three data sets to answer the following questions.\n"
   ]
  },
  {
   "cell_type": "markdown",
   "metadata": {
    "id": "Q9sbjklJbN9O"
   },
   "source": [
    "## Task 2\n",
    "Determine whether there is a large difference between the ticket amounts for people with incomes less than \\\\$30,000 and those with incomes greater than or equal to \\\\$30,000. (Tickets are given out in \\\\$1.00 increments).\n"
   ]
  },
  {
   "cell_type": "code",
   "execution_count": null,
   "metadata": {
    "id": "3EjgmHOYbN9O"
   },
   "outputs": [],
   "source": [
    "\n",
    "\n",
    "\n"
   ]
  },
  {
   "cell_type": "markdown",
   "metadata": {
    "id": "Qnp3ZfWzjgDK"
   },
   "source": [
    "Explain your answer in 1-2 sentences."
   ]
  },
  {
   "cell_type": "markdown",
   "metadata": {
    "id": "Uw11uyWVjg7U"
   },
   "source": [
    " \n",
    "[insert explanation here]\n",
    "\n",
    " "
   ]
  },
  {
   "cell_type": "markdown",
   "metadata": {},
   "source": [
    "## Task 2.B\n",
    "\n",
    "The stops data also contains information regarding the individual's race. Using the driver_race column and the ticket column, determine if there are differences in who is stopped and whether they receive a ticket. Present your findings in a table along with (1) a description of the table and (2) an explanation of the results."
   ]
  },
  {
   "cell_type": "code",
   "execution_count": null,
   "metadata": {},
   "outputs": [],
   "source": []
  },
  {
   "cell_type": "markdown",
   "metadata": {},
   "source": [
    "[insert explanation here]"
   ]
  },
  {
   "cell_type": "markdown",
   "metadata": {},
   "source": [
    "# Section 3: General Questions"
   ]
  },
  {
   "cell_type": "markdown",
   "metadata": {},
   "source": [
    "## Task 3.A\n",
    "\n",
    "Explain your interest in JIL's racial equity work"
   ]
  },
  {
   "cell_type": "markdown",
   "metadata": {},
   "source": [
    "[insert explanation here]"
   ]
  },
  {
   "cell_type": "markdown",
   "metadata": {},
   "source": [
    "## Task 3.B\n",
    "\n",
    "Give a specific example where you were responsible for writing code to clean and analyze data. Be sure to include the tools you used, whether the process was for professional or academic purposes, and whether the process you devised could be run without your input."
   ]
  },
  {
   "cell_type": "markdown",
   "metadata": {},
   "source": [
    "[insert explanation here]"
   ]
  },
  {
   "cell_type": "markdown",
   "metadata": {},
   "source": [
    "## Task 3.C\n",
    "\n",
    "Explain your experience with github i.e. how often you use github, what commands you are familiar with, etc."
   ]
  },
  {
   "cell_type": "markdown",
   "metadata": {},
   "source": [
    "[insert explanation here]"
   ]
  },
  {
   "cell_type": "markdown",
   "metadata": {
    "id": "c3ek-B8VoR6j"
   },
   "source": [
    "# Send us your work!!!\n",
    "\n",
    "Once you have completed the tasks:\n",
    " - Create a PDF or knitted HTML file of this of this notebook.  \n",
    " - Compress **this IPYNB file** and the PDF or HTML file along with any accompanying files or scripts you have created that are necessary to show your work into a SINGLE COMPRESSED FILE. (e.g., zip, bz2, gz, tar, xz). \n",
    " - Name the compressed file with your full name, e.g. lastname-firstname.zip.\n",
    "\n",
    "Do BOTH of the following: \n",
    " - Upload the compressed file here: https://app.box.com/f/9b7682f783314340ae57c96091b723e9\n",
    " - Email the compressed file to hiring@justiceinnovationlab.org with the subject line 'Data Fellow Performance Task'.\n",
    "\n",
    "What to expect next:\n",
    " - We will review completed tasks as they are submitted, hopefully within a week of submission.\n",
    " - After reviewing your performance task we will get back to you with next steps e.g. submission of a resume and cover letter.\n"
   ]
  }
 ],
 "metadata": {
  "colab": {
   "name": "JIL Performance Task.ipynb",
   "provenance": []
  },
  "kernelspec": {
   "display_name": "Python 3",
   "language": "python",
   "name": "python3"
  },
  "language_info": {
   "codemirror_mode": {
    "name": "ipython",
    "version": 3
   },
   "file_extension": ".py",
   "mimetype": "text/x-python",
   "name": "python",
   "nbconvert_exporter": "python",
   "pygments_lexer": "ipython3",
   "version": "3.8.5"
  }
 },
 "nbformat": 4,
 "nbformat_minor": 1
}
